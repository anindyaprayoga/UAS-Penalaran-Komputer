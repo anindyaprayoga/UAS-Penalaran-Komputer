{
 "cells": [
  {
   "cell_type": "code",
   "execution_count": null,
   "metadata": {
    "colab": {
     "base_uri": "https://localhost:8080/"
    },
    "executionInfo": {
     "elapsed": 184655,
     "status": "ok",
     "timestamp": 1750962765795,
     "user": {
      "displayName": "253_Anindya Samantha Prayoga",
      "userId": "06698759540899314801"
     },
     "user_tz": -420
    },
    "id": "3Dzz9mIxe0nk",
    "outputId": "d1b4aca2-b25d-4188-d39c-2db250085f9f"
   },
   "outputs": [
    {
     "name": "stdout",
     "output_type": "stream",
     "text": [
      "\u001b[2K   \u001b[90m━━━━━━━━━━━━━━━━━━━━━━━━━━━━━━━━━━━━━━━━\u001b[0m \u001b[32m363.4/363.4 MB\u001b[0m \u001b[31m2.2 MB/s\u001b[0m eta \u001b[36m0:00:00\u001b[0m\n",
      "\u001b[2K   \u001b[90m━━━━━━━━━━━━━━━━━━━━━━━━━━━━━━━━━━━━━━━━\u001b[0m \u001b[32m13.8/13.8 MB\u001b[0m \u001b[31m23.8 MB/s\u001b[0m eta \u001b[36m0:00:00\u001b[0m\n",
      "\u001b[2K   \u001b[90m━━━━━━━━━━━━━━━━━━━━━━━━━━━━━━━━━━━━━━━━\u001b[0m \u001b[32m24.6/24.6 MB\u001b[0m \u001b[31m12.7 MB/s\u001b[0m eta \u001b[36m0:00:00\u001b[0m\n",
      "\u001b[2K   \u001b[90m━━━━━━━━━━━━━━━━━━━━━━━━━━━━━━━━━━━━━━━━\u001b[0m \u001b[32m883.7/883.7 kB\u001b[0m \u001b[31m18.3 MB/s\u001b[0m eta \u001b[36m0:00:00\u001b[0m\n",
      "\u001b[2K   \u001b[90m━━━━━━━━━━━━━━━━━━━━━━━━━━━━━━━━━━━━━━━\u001b[0m \u001b[32m664.8/664.8 MB\u001b[0m \u001b[31m751.5 kB/s\u001b[0m eta \u001b[36m0:00:00\u001b[0m\n",
      "\u001b[2K   \u001b[90m━━━━━━━━━━━━━━━━━━━━━━━━━━━━━━━━━━━━━━━\u001b[0m \u001b[32m211.5/211.5 MB\u001b[0m \u001b[31m956.4 kB/s\u001b[0m eta \u001b[36m0:00:00\u001b[0m\n",
      "\u001b[2K   \u001b[90m━━━━━━━━━━━━━━━━━━━━━━━━━━━━━━━━━━━━━━━━\u001b[0m \u001b[32m56.3/56.3 MB\u001b[0m \u001b[31m5.7 MB/s\u001b[0m eta \u001b[36m0:00:00\u001b[0m\n",
      "\u001b[2K   \u001b[90m━━━━━━━━━━━━━━━━━━━━━━━━━━━━━━━━━━━━━━━━\u001b[0m \u001b[32m127.9/127.9 MB\u001b[0m \u001b[31m5.0 MB/s\u001b[0m eta \u001b[36m0:00:00\u001b[0m\n",
      "\u001b[2K   \u001b[90m━━━━━━━━━━━━━━━━━━━━━━━━━━━━━━━━━━━━━━━━\u001b[0m \u001b[32m207.5/207.5 MB\u001b[0m \u001b[31m1.7 MB/s\u001b[0m eta \u001b[36m0:00:00\u001b[0m\n",
      "\u001b[2K   \u001b[90m━━━━━━━━━━━━━━━━━━━━━━━━━━━━━━━━━━━━━━━━\u001b[0m \u001b[32m21.1/21.1 MB\u001b[0m \u001b[31m90.6 MB/s\u001b[0m eta \u001b[36m0:00:00\u001b[0m\n",
      "\u001b[?25h"
     ]
    }
   ],
   "source": [
    "!pip install transformers sentence-transformers --quiet"
   ]
  },
  {
   "cell_type": "code",
   "execution_count": null,
   "metadata": {
    "id": "OQLFwQ7PgK3v"
   },
   "outputs": [],
   "source": [
    "!pip install transformers --quiet\n",
    "\n",
    "from transformers import AutoTokenizer, AutoModel\n",
    "import torch\n",
    "import numpy as np\n",
    "from tqdm import tqdm\n",
    "\n",
    "tokenizer = AutoTokenizer.from_pretrained(\"indobenchmark/indobert-base-p1\")\n",
    "model = AutoModel.from_pretrained(\"indobenchmark/indobert-base-p1\")\n",
    "\n",
    "def bert_embed(text: str) -> np.ndarray:\n",
    "    inputs = tokenizer(text, return_tensors=\"pt\", truncation=True, padding=True, max_length=512)\n",
    "    with torch.no_grad():\n",
    "        outputs = model(**inputs)\n",
    "    return outputs.last_hidden_state.mean(dim=1).squeeze().numpy()"
   ]
  },
  {
   "cell_type": "code",
   "execution_count": null,
   "metadata": {
    "colab": {
     "base_uri": "https://localhost:8080/"
    },
    "executionInfo": {
     "elapsed": 58150,
     "status": "ok",
     "timestamp": 1750963689853,
     "user": {
      "displayName": "253_Anindya Samantha Prayoga",
      "userId": "06698759540899314801"
     },
     "user_tz": -420
    },
    "id": "hco5cMnigO_8",
    "outputId": "68f358ee-50be-45f9-cccd-c0b5d19cc79f"
   },
   "outputs": [
    {
     "name": "stderr",
     "output_type": "stream",
     "text": [
      "🔄 Generating BERT embeddings: 100%|██████████| 150/150 [00:57<00:00,  2.62it/s]\n"
     ]
    }
   ],
   "source": [
    "import pandas as pd\n",
    "import pickle\n",
    "from tqdm import tqdm\n",
    "\n",
    "CSV_PATH = \"/content/drive/MyDrive/cbr_banking/data/processed/cases.csv\"\n",
    "df = pd.read_csv(CSV_PATH)\n",
    "\n",
    "# Ambil potongan awal dari full text (misal 1500 karakter pertama)\n",
    "texts = df[\"text_full\"].fillna(\"\").str[:1500].tolist()\n",
    "\n",
    "bert_embeddings = []\n",
    "for text in tqdm(texts, desc=\"🔄 Generating BERT embeddings\"):\n",
    "    try:\n",
    "        emb = bert_embed(text)\n",
    "    except:\n",
    "        emb = np.zeros(768)\n",
    "    bert_embeddings.append(emb)\n",
    "\n",
    "bert_matrix = np.vstack(bert_embeddings)\n",
    "\n",
    "# Simpan supaya tidak perlu mengulang\n",
    "np.save(\"/content/drive/MyDrive/cbr_banking/bert_embeddings_textfull.npy\", bert_matrix)\n"
   ]
  },
  {
   "cell_type": "code",
   "execution_count": null,
   "metadata": {
    "id": "0ligQdCQgTHo"
   },
   "outputs": [],
   "source": [
    "from sklearn.metrics.pairwise import cosine_similarity\n",
    "\n",
    "def retrieve(query: str, k: int = 5) -> list:\n",
    "    query_vec = bert_embed(query).reshape(1, -1)\n",
    "    similarities = cosine_similarity(query_vec, bert_matrix).flatten()\n",
    "    top_k_idx = np.argsort(similarities)[-k:][::-1]\n",
    "    return df.iloc[top_k_idx][\"case_id\"].tolist()\n"
   ]
  },
  {
   "cell_type": "code",
   "execution_count": null,
   "metadata": {
    "colab": {
     "base_uri": "https://localhost:8080/"
    },
    "executionInfo": {
     "elapsed": 566,
     "status": "ok",
     "timestamp": 1750963962843,
     "user": {
      "displayName": "253_Anindya Samantha Prayoga",
      "userId": "06698759540899314801"
     },
     "user_tz": -420
    },
    "id": "9u6xWLVWgaGz",
    "outputId": "8b070ed5-b6ba-401d-9d24-b592179d4944"
   },
   "outputs": [
    {
     "name": "stdout",
     "output_type": "stream",
     "text": [
      "\n",
      "🟢 Query: penipuan dana nasabah oleh teller bank\n",
      "🔍 Retrieved: [100, 104, 150, 144, 141, 147, 55, 37, 92, 70, 109, 127, 19, 121, 4, 142, 71, 93, 38, 128, 145, 148, 20, 56, 110, 48, 123, 87, 131, 46, 33, 111, 57, 129, 149, 146, 143, 39, 94, 21, 72, 138, 28, 80, 68, 63, 41, 17, 23, 52]\n",
      "✅ Ground truth: [5]\n",
      "🎯 Hit? NO\n",
      "\n",
      "🟢 Query: penggelapan anggaran kredit koperasi\n",
      "🔍 Retrieved: [100, 131, 138, 123, 29, 48, 104, 79, 70, 109, 19, 92, 37, 55, 144, 141, 150, 127, 147, 121, 142, 145, 56, 38, 20, 71, 128, 148, 110, 93, 63, 4, 33, 149, 21, 129, 143, 146, 72, 111, 57, 39, 94, 41, 87, 46, 42, 80, 28, 12]\n",
      "✅ Ground truth: [12]\n",
      "🎯 Hit? YES\n",
      "\n",
      "🟢 Query: korupsi direktur bank swasta\n",
      "🔍 Retrieved: [117, 145, 142, 110, 128, 148, 56, 38, 20, 71, 93, 57, 72, 39, 129, 146, 111, 94, 21, 149, 143, 150, 37, 55, 70, 92, 19, 147, 127, 109, 144, 141, 100, 48, 104, 138, 121, 4, 15, 26, 42, 79, 63, 27, 46, 98, 91, 67, 68, 28]\n",
      "✅ Ground truth: [3]\n",
      "🎯 Hit? NO\n",
      "\n",
      "🟢 Query: pemalsuan dokumen rekening\n",
      "🔍 Retrieved: [42, 121, 79, 100, 104, 34, 102, 73, 6, 51, 48, 81, 11, 27, 124, 25, 16, 132, 82, 98, 106, 14, 4, 97, 89, 12, 114, 83, 91, 119, 138, 35, 67, 17, 23, 150, 127, 55, 147, 144, 141, 109, 92, 70, 19, 37, 61, 52, 120, 140]\n",
      "✅ Ground truth: [8]\n",
      "🎯 Hit? NO\n"
     ]
    }
   ],
   "source": [
    "import json\n",
    "\n",
    "with open(\"/content/drive/MyDrive/cbr_banking/data/eval/queries.json\", \"r\", encoding=\"utf-8\") as f:\n",
    "    queries = json.load(f)\n",
    "\n",
    "for q in queries:\n",
    "    result = retrieve(q[\"query\"], k=50)\n",
    "    print(f\"\\n🟢 Query: {q['query']}\")\n",
    "    print(f\"🔍 Retrieved: {result}\")\n",
    "    print(f\"✅ Ground truth: {q['ground_truth']}\")\n",
    "    print(f\"🎯 Hit? {'YES' if set(result) & set(q['ground_truth']) else 'NO'}\")\n"
   ]
  }
 ],
 "metadata": {
  "colab": {
   "authorship_tag": "ABX9TyNvALPtgqz5PmEgffldZPZt",
   "provenance": []
  },
  "kernelspec": {
   "display_name": "Python 3",
   "name": "python3"
  },
  "language_info": {
   "name": "python"
  }
 },
 "nbformat": 4,
 "nbformat_minor": 0
}
